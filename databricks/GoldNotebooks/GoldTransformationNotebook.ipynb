{
 "cells": [
  {
   "cell_type": "markdown",
   "metadata": {
    "application/vnd.databricks.v1+cell": {
     "cellMetadata": {},
     "inputWidgets": {},
     "nuid": "2c32dcf1-79d9-4067-a62e-bfcd47e1b947",
     "showTitle": false,
     "tableResultSettingsMap": {},
     "title": ""
    }
   },
   "source": [
    "### Step 1: Initialize Widgets\n",
    "Set up the widgets to receive parameters from Data Factory."
   ]
  },
  {
   "cell_type": "code",
   "execution_count": 0,
   "metadata": {
    "application/vnd.databricks.v1+cell": {
     "cellMetadata": {},
     "inputWidgets": {},
     "nuid": "1a7709ab-1651-4a94-8751-a2abf96e85f4",
     "showTitle": false,
     "tableResultSettingsMap": {},
     "title": ""
    }
   },
   "outputs": [],
   "source": [
    "dbutils.widgets.text(\"business_unit\", \"\")\n",
    "dbutils.widgets.text(\"source_path\", \"\")\n",
    "dbutils.widgets.text(\"destination_path\", \"\")\n",
    "dbutils.widgets.text(\"source_name\", \"\")\n",
    "dbutils.widgets.text(\"mask_columns\", \"\")\n",
    "\n",
    "business_unit    = dbutils.widgets.get(\"business_unit\")\n",
    "source_path      = dbutils.widgets.get(\"source_path\")\n",
    "destination_path = dbutils.widgets.get(\"destination_path\")\n",
    "source_name      = dbutils.widgets.get(\"source_name\")\n",
    "mask_columns     = dbutils.widgets.get(\"mask_columns\")\n"
   ]
  },
  {
   "cell_type": "markdown",
   "metadata": {
    "application/vnd.databricks.v1+cell": {
     "cellMetadata": {},
     "inputWidgets": {},
     "nuid": "3d6878df-aca1-4754-b190-0f873ba55c0b",
     "showTitle": false,
     "tableResultSettingsMap": {},
     "title": ""
    }
   },
   "source": [
    "### Step 2: Read Data from Silver Layer\n",
    "Build the file path using the source_path, business_unit, and source_name parameters, then read the Parquet file."
   ]
  },
  {
   "cell_type": "code",
   "execution_count": 0,
   "metadata": {
    "application/vnd.databricks.v1+cell": {
     "cellMetadata": {},
     "inputWidgets": {},
     "nuid": "e87e6ea1-8161-4e32-9151-38025c981fc1",
     "showTitle": false,
     "tableResultSettingsMap": {},
     "title": ""
    }
   },
   "outputs": [],
   "source": [
    "# Build the file path for the Silver layer file (assumes the file is named as {source_name}_silver.parquet)\n",
    "spark.conf.set(\n",
    "    \"fs.azure.account.key.stgdatapoc.dfs.core.windows.net\",\n",
    "    \"QD5wJQ6uA9+sdAdrFma1Qvn/GhfQN5Ivs7rIqUxUy4tfS//N+TPaeU1xpEWMHJaKtvzndAa2EHGj+ASt32QmjQ==\"\n",
    ")\n",
    "silver_file = f\"abfss://{source_path}@stgdatapoc.dfs.core.windows.net/{business_unit}/{source_name}.parquet\"\n",
    "\n",
    "# Read the data from the Silver layer\n",
    "df = spark.read.parquet(silver_file)\n"
   ]
  },
  {
   "cell_type": "markdown",
   "metadata": {
    "application/vnd.databricks.v1+cell": {
     "cellMetadata": {},
     "inputWidgets": {},
     "nuid": "7790d293-ea80-436a-8314-c184aa66ca31",
     "showTitle": false,
     "tableResultSettingsMap": {},
     "title": ""
    }
   },
   "source": [
    "### Step 3: Apply Masking Transformation\n",
    "If mask_columns is provided (not empty), split the columns by comma and mask each one."
   ]
  },
  {
   "cell_type": "code",
   "execution_count": 0,
   "metadata": {
    "application/vnd.databricks.v1+cell": {
     "cellMetadata": {},
     "inputWidgets": {},
     "nuid": "cffbed14-194b-4f99-a61f-acc442f33fde",
     "showTitle": false,
     "tableResultSettingsMap": {},
     "title": ""
    }
   },
   "outputs": [],
   "source": [
    "if mask_columns and mask_columns.strip() != \"\":\n",
    "    columns_to_mask = mask_columns.split(\",\")\n",
    "    import pyspark.sql.functions as F\n",
    "    for col_name in columns_to_mask:\n",
    "        # Replace the values of the column with \"XXXX\" (you can apply more complex masking as needed)\n",
    "        df = df.withColumn(col_name, F.lit(\"XXXX\"))\n"
   ]
  },
  {
   "cell_type": "markdown",
   "metadata": {
    "application/vnd.databricks.v1+cell": {
     "cellMetadata": {},
     "inputWidgets": {},
     "nuid": "a702306c-7c0a-48e9-976e-ef7282e2213d",
     "showTitle": false,
     "tableResultSettingsMap": {},
     "title": ""
    }
   },
   "source": [
    "### Step 4: Write Data to Gold Layer\n",
    "Build the destination file path and write the resulting DataFrame to the Gold layer in Parquet format.\n"
   ]
  },
  {
   "cell_type": "code",
   "execution_count": 0,
   "metadata": {
    "application/vnd.databricks.v1+cell": {
     "cellMetadata": {},
     "inputWidgets": {},
     "nuid": "eab8e663-8d6e-4e1a-8ae0-e9222e343489",
     "showTitle": false,
     "tableResultSettingsMap": {},
     "title": ""
    }
   },
   "outputs": [],
   "source": [
    "gold_file =  f\"abfss://{destination_path}@stgdatapoc.dfs.core.windows.net/{business_unit}/{source_name}_gold\"\n",
    "# Write the resulting DataFrame to the Gold layer in Delta format (overwrite mode)\n",
    "df.write.format(\"delta\").mode(\"overwrite\").save(gold_file)\n",
    "\n",
    "# Exit the notebook indicating success\n",
    "dbutils.notebook.exit(\"Success\")\n"
   ]
  }
 ],
 "metadata": {
  "application/vnd.databricks.v1+notebook": {
   "computePreferences": null,
   "dashboards": [],
   "environmentMetadata": {
    "base_environment": "",
    "environment_version": "2"
   },
   "inputWidgetPreferences": null,
   "language": "python",
   "notebookMetadata": {
    "pythonIndentUnit": 4
   },
   "notebookName": "GoldTransformationNotebook",
   "widgets": {}
  },
  "language_info": {
   "name": "python"
  }
 },
 "nbformat": 4,
 "nbformat_minor": 0
}
