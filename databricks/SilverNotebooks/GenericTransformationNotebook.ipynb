{
 "cells": [
  {
   "cell_type": "markdown",
   "metadata": {
    "application/vnd.databricks.v1+cell": {
     "cellMetadata": {},
     "inputWidgets": {},
     "nuid": "b2a06edc-da88-4ca8-bab4-9525215b738c",
     "showTitle": false,
     "tableResultSettingsMap": {},
     "title": ""
    }
   },
   "source": [
    "### Step 1: Initialize Parameters\n",
    "This step sets up the widgets to receive parameters."
   ]
  },
  {
   "cell_type": "code",
   "execution_count": 0,
   "metadata": {
    "application/vnd.databricks.v1+cell": {
     "cellMetadata": {},
     "inputWidgets": {},
     "nuid": "107cd9a0-4b84-4111-80e3-20f4abda7c5d",
     "showTitle": false,
     "tableResultSettingsMap": {},
     "title": ""
    }
   },
   "outputs": [],
   "source": [
    "# Set up widgets to receive parameters\n",
    "dbutils.widgets.text(\"business_unit\", \"\")\n",
    "dbutils.widgets.text(\"source_path\", \"\")\n",
    "dbutils.widgets.text(\"destination_path\", \"\")\n",
    "dbutils.widgets.text(\"source_name\", \"\")\n",
    "dbutils.widgets.text(\"transformation_rules\", \"{}\")\n",
    "\n",
    "# Retrieve the parameter values\n",
    "business_unit = dbutils.widgets.get(\"business_unit\")\n",
    "source_path = dbutils.widgets.get(\"source_path\")\n",
    "destination_path = dbutils.widgets.get(\"destination_path\")\n",
    "source_name = dbutils.widgets.get(\"source_name\")\n",
    "transformation_rules = dbutils.widgets.get(\"transformation_rules\")\n",
    "\n",
    "# Convert transformation rules to JSON (if provided)\n",
    "import json\n",
    "try:\n",
    "    rules = json.loads(transformation_rules)\n",
    "except Exception as e:\n",
    "    rules = {}\n"
   ]
  },
  {
   "cell_type": "markdown",
   "metadata": {
    "application/vnd.databricks.v1+cell": {
     "cellMetadata": {},
     "inputWidgets": {},
     "nuid": "66b5a02a-780d-4785-bbe9-5b64c40b934a",
     "showTitle": false,
     "tableResultSettingsMap": {},
     "title": ""
    }
   },
   "source": [
    "### Step 2: Read Data from Bronze Layer\n",
    "This step reads the source data from the Bronze layer.\n"
   ]
  },
  {
   "cell_type": "code",
   "execution_count": 0,
   "metadata": {
    "application/vnd.databricks.v1+cell": {
     "cellMetadata": {},
     "inputWidgets": {},
     "nuid": "978c05cd-bc6e-4079-99d7-3dd6e4752d7d",
     "showTitle": false,
     "tableResultSettingsMap": {},
     "title": ""
    }
   },
   "outputs": [],
   "source": [
    "# Build the file path for the Bronze layer file (assuming Parquet format)\n",
    "spark.conf.set(\n",
    "    \"fs.azure.account.key.stgdatapoc.dfs.core.windows.net\",\n",
    "    \"QD5wJQ6uA9+sdAdrFma1Qvn/GhfQN5Ivs7rIqUxUy4tfS//N+TPaeU1xpEWMHJaKtvzndAa2EHGj+ASt32QmjQ==\"\n",
    ")\n",
    "bronze_file = f\"abfss://{source_path}@stgdatapoc.dfs.core.windows.net/{business_unit}/{source_name}.parquet\"\n",
    "\n",
    "# Read the data from the Bronze layer\n",
    "df = spark.read.parquet(bronze_file)\n"
   ]
  },
  {
   "cell_type": "markdown",
   "metadata": {
    "application/vnd.databricks.v1+cell": {
     "cellMetadata": {},
     "inputWidgets": {},
     "nuid": "c1494ba0-9dcf-4ea4-8c1f-858cd6b3345c",
     "showTitle": false,
     "tableResultSettingsMap": {},
     "title": ""
    }
   },
   "source": [
    "### Step 3: Apply Common Transformations\n",
    "Here we apply general transformations such as removing duplicates and filling null values.\n"
   ]
  },
  {
   "cell_type": "code",
   "execution_count": 0,
   "metadata": {
    "application/vnd.databricks.v1+cell": {
     "cellMetadata": {},
     "inputWidgets": {},
     "nuid": "44ac8121-0e1e-4d7b-a2fd-27db97f7f011",
     "showTitle": false,
     "tableResultSettingsMap": {},
     "title": ""
    }
   },
   "outputs": [],
   "source": [
    "# Apply common transformations: remove duplicates\n",
    "df_transformed = df.dropDuplicates()\n",
    "\n",
    "# Optionally fill null values if defined in transformation rules\n",
    "if rules.get(\"fill_nulls\"):\n",
    "    df_transformed = df_transformed.na.fill(rules[\"fill_nulls\"])\n",
    "\n",
    "# Optionally rename columns if specified in the transformation rules\n",
    "if rules.get(\"rename_columns\"):\n",
    "    for old_name, new_name in rules[\"rename_columns\"].items():\n",
    "        df_transformed = df_transformed.withColumnRenamed(old_name, new_name)\n"
   ]
  },
  {
   "cell_type": "markdown",
   "metadata": {
    "application/vnd.databricks.v1+cell": {
     "cellMetadata": {},
     "inputWidgets": {},
     "nuid": "762f1472-3cae-4829-bd1d-1d60730d5de6",
     "showTitle": false,
     "tableResultSettingsMap": {},
     "title": ""
    }
   },
   "source": [
    "### Step 4: Write Transformed Data to Silver Layer\n",
    "Finally, write the transformed data to the Silver layer.\n"
   ]
  },
  {
   "cell_type": "code",
   "execution_count": 0,
   "metadata": {
    "application/vnd.databricks.v1+cell": {
     "cellMetadata": {},
     "inputWidgets": {},
     "nuid": "a81d6e32-792b-4247-868f-33626bd47248",
     "showTitle": false,
     "tableResultSettingsMap": {},
     "title": ""
    }
   },
   "outputs": [],
   "source": [
    "# Build the file path for the Silver layer output\n",
    "silver_file = f\"abfss://{destination_path}@stgdatapoc.dfs.core.windows.net/{business_unit}/{source_name}.parquet\"\n",
    "\n",
    "# Write the transformed data to the Silver layer (overwrite mode)\n",
    "df_transformed.write.mode(\"overwrite\").parquet(silver_file)\n",
    "\n",
    "# Exit the notebook indicating success\n",
    "dbutils.notebook.exit(\"Success\")\n"
   ]
  }
 ],
 "metadata": {
  "application/vnd.databricks.v1+notebook": {
   "computePreferences": null,
   "dashboards": [],
   "environmentMetadata": {
    "base_environment": "",
    "environment_version": "2"
   },
   "inputWidgetPreferences": null,
   "language": "python",
   "notebookMetadata": {
    "pythonIndentUnit": 4
   },
   "notebookName": "GenericTransformationNotebook",
   "widgets": {}
  },
  "language_info": {
   "name": "python"
  }
 },
 "nbformat": 4,
 "nbformat_minor": 0
}
