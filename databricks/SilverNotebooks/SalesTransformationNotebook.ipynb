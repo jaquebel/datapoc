{
 "cells": [
  {
   "cell_type": "markdown",
   "metadata": {
    "application/vnd.databricks.v1+cell": {
     "cellMetadata": {},
     "inputWidgets": {},
     "nuid": "65f7c638-79c3-44f9-a48c-beec251ffef3",
     "showTitle": false,
     "tableResultSettingsMap": {},
     "title": ""
    }
   },
   "source": [
    "### Step 1: Initialize Parameters\n",
    "This step sets up the widgets to receive parameters specific for Sales transformations.\n"
   ]
  },
  {
   "cell_type": "code",
   "execution_count": 0,
   "metadata": {
    "application/vnd.databricks.v1+cell": {
     "cellMetadata": {},
     "inputWidgets": {},
     "nuid": "ae2a1b53-78a1-44df-b826-d9df551984b4",
     "showTitle": false,
     "tableResultSettingsMap": {},
     "title": ""
    }
   },
   "outputs": [],
   "source": [
    "# Set up widgets to receive parameters\n",
    "dbutils.widgets.text(\"business_unit\", \"\")\n",
    "dbutils.widgets.text(\"source_path\", \"\")\n",
    "dbutils.widgets.text(\"destination_path\", \"\")\n",
    "dbutils.widgets.text(\"source_name\", \"\")\n",
    "dbutils.widgets.text(\"transformation_rules\", \"{}\")\n",
    "\n",
    "# Retrieve the parameter values\n",
    "business_unit = dbutils.widgets.get(\"business_unit\")\n",
    "source_path = dbutils.widgets.get(\"source_path\")\n",
    "destination_path = dbutils.widgets.get(\"destination_path\")\n",
    "source_name = dbutils.widgets.get(\"source_name\")\n",
    "transformation_rules = dbutils.widgets.get(\"transformation_rules\")\n",
    "\n",
    "# Convert transformation rules to JSON (if provided)\n",
    "import json\n",
    "try:\n",
    "    rules = json.loads(transformation_rules)\n",
    "except Exception as e:\n",
    "    rules = {}"
   ]
  },
  {
   "cell_type": "markdown",
   "metadata": {
    "application/vnd.databricks.v1+cell": {
     "cellMetadata": {},
     "inputWidgets": {},
     "nuid": "0b4b18c3-4ac7-4904-b6ab-9fc0ca593243",
     "showTitle": false,
     "tableResultSettingsMap": {},
     "title": ""
    }
   },
   "source": [
    "### Step 2: Read Data from Bronze Layer\n",
    "This step reads the Sales data from the Bronze layer.\n"
   ]
  },
  {
   "cell_type": "code",
   "execution_count": 0,
   "metadata": {
    "application/vnd.databricks.v1+cell": {
     "cellMetadata": {
      "byteLimit": 2048000,
      "rowLimit": 10000
     },
     "inputWidgets": {},
     "nuid": "dcba875b-1675-4f2e-b672-5913ac5412e7",
     "showTitle": false,
     "tableResultSettingsMap": {},
     "title": ""
    }
   },
   "outputs": [],
   "source": [
    "source_path = \"bronze\"\n",
    "business_unit = \"Sales\"\n",
    "source_name = \"SalesTable\""
   ]
  },
  {
   "cell_type": "code",
   "execution_count": 0,
   "metadata": {
    "application/vnd.databricks.v1+cell": {
     "cellMetadata": {
      "byteLimit": 2048000,
      "rowLimit": 10000
     },
     "inputWidgets": {},
     "nuid": "38515bf7-a354-4e4b-8a63-8826047ffb58",
     "showTitle": false,
     "tableResultSettingsMap": {},
     "title": ""
    }
   },
   "outputs": [],
   "source": [
    "# Build the file path for the Bronze layer file (assuming Parquet format)\n",
    "spark.conf.set(\n",
    "    \"fs.azure.account.key.stgdatapoc.dfs.core.windows.net\",\n",
    "    \"QD5wJQ6uA9+sdAdrFma1Qvn/GhfQN5Ivs7rIqUxUy4tfS//N+TPaeU1xpEWMHJaKtvzndAa2EHGj+ASt32QmjQ==\"\n",
    ")\n",
    "bronze_file = f\"abfss://{source_path}@stgdatapoc.dfs.core.windows.net/{business_unit}/{source_name}.parquet\"\n",
    "\n",
    "# Read the data from the Bronze layer\n",
    "df = spark.read.parquet(bronze_file)\n"
   ]
  },
  {
   "cell_type": "markdown",
   "metadata": {
    "application/vnd.databricks.v1+cell": {
     "cellMetadata": {},
     "inputWidgets": {},
     "nuid": "8d35e0d4-07b4-4092-a75e-2a305af7a673",
     "showTitle": false,
     "tableResultSettingsMap": {},
     "title": ""
    }
   },
   "source": [
    "### Step 3: Apply Sales-Specific Transformations\n",
    "This step applies both the common transformations and Sales-specific business logic.\n"
   ]
  },
  {
   "cell_type": "code",
   "execution_count": 0,
   "metadata": {
    "application/vnd.databricks.v1+cell": {
     "cellMetadata": {},
     "inputWidgets": {},
     "nuid": "6d72bbe5-77cf-40d8-98ca-6db08bb13c29",
     "showTitle": false,
     "tableResultSettingsMap": {},
     "title": ""
    }
   },
   "outputs": [],
   "source": [
    "# Apply common transformations: remove duplicates\n",
    "df_transformed = df.dropDuplicates()\n",
    "\n",
    "# Sales-specific transformation: if business_unit is Sales, apply extra logic\n",
    "if business_unit.lower() == \"sales\":\n",
    "    from pyspark.sql.functions import col\n",
    "    # Example: convert 'amount' from USD to EUR using a conversion rate from transformation rules or default value\n",
    "    conversion_rate = rules.get(\"conversion_rate\", 0.85)\n",
    "    df_transformed = df_transformed.withColumn(\"amount_eur\", col(\"amount\") * conversion_rate)\n",
    "    \n",
    "    # Filter records with a valid 'amount'\n",
    "    df_transformed = df_transformed.filter(col(\"amount\") > 0)\n"
   ]
  },
  {
   "cell_type": "markdown",
   "metadata": {
    "application/vnd.databricks.v1+cell": {
     "cellMetadata": {},
     "inputWidgets": {},
     "nuid": "06e10553-a66c-47f1-ae71-ea75c4fad287",
     "showTitle": false,
     "tableResultSettingsMap": {},
     "title": ""
    }
   },
   "source": [
    "### Step 4: Write Transformed Data to Silver Layer\n",
    "Write the transformed Sales data to the Silver layer.\n"
   ]
  },
  {
   "cell_type": "code",
   "execution_count": 0,
   "metadata": {
    "application/vnd.databricks.v1+cell": {
     "cellMetadata": {},
     "inputWidgets": {},
     "nuid": "dd9718eb-32a3-4f87-b58c-39b9e7bdfc49",
     "showTitle": false,
     "tableResultSettingsMap": {},
     "title": ""
    }
   },
   "outputs": [],
   "source": [
    "# Build the file path for the Silver layer output\n",
    "silver_file = f\"abfss://{destination_path}@stgdatapoc.dfs.core.windows.net/{business_unit}/{source_name}.parquet\"\n",
    "\n",
    "# Write the transformed data to the Silver layer (overwrite mode)\n",
    "df_transformed.write.mode(\"overwrite\").parquet(silver_file)\n",
    "\n",
    "# Exit the notebook indicating success\n",
    "dbutils.notebook.exit(\"Success\")\n"
   ]
  }
 ],
 "metadata": {
  "application/vnd.databricks.v1+notebook": {
   "computePreferences": null,
   "dashboards": [],
   "environmentMetadata": {
    "base_environment": "",
    "environment_version": "2"
   },
   "inputWidgetPreferences": null,
   "language": "python",
   "notebookMetadata": {
    "pythonIndentUnit": 4
   },
   "notebookName": "SalesTransformationNotebook",
   "widgets": {}
  },
  "language_info": {
   "name": "python"
  }
 },
 "nbformat": 4,
 "nbformat_minor": 0
}
